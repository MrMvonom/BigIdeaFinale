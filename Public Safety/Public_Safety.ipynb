{
 "cells": [
  {
   "cell_type": "markdown",
   "metadata": {},
   "source": [
    "# Public Safety\n",
    "## By Oliver Schunn"
   ]
  },
  {
   "cell_type": "markdown",
   "metadata": {},
   "source": [
    "Public Safety as measured by the regional data center contains a record of crimes from murder to drug violations in each neighborhood of Pittsburgh in 2010. For this project we will use the public safety census from 2010 to evaluate the quality of life of each neighborhood and then use that as the metric by which to measure which neighborhood is the \"best\". All this data shows the safeness of each neighborhood and what kind of issues each neighborhood is suffering from, thereby giving an accurate summation of the quality of life within all neighborhoods in Pittsburgh."
   ]
  },
  {
   "cell_type": "markdown",
   "metadata": {},
   "source": [
    "The reason we chose quality of life (QOL) as a representation of our metric was because we found that the safety of any specific neighborhood would be an accurate and direct indicator of the quality of a neighborhood, where less criminal activity correlates to higher quality of life and vice versa."
   ]
  },
  {
   "cell_type": "code",
   "execution_count": 14,
   "metadata": {},
   "outputs": [
    {
     "data": {
      "text/html": [
       "<div>\n",
       "<style scoped>\n",
       "    .dataframe tbody tr th:only-of-type {\n",
       "        vertical-align: middle;\n",
       "    }\n",
       "\n",
       "    .dataframe tbody tr th {\n",
       "        vertical-align: top;\n",
       "    }\n",
       "\n",
       "    .dataframe thead th {\n",
       "        text-align: right;\n",
       "    }\n",
       "</style>\n",
       "<table border=\"1\" class=\"dataframe\">\n",
       "  <thead>\n",
       "    <tr style=\"text-align: right;\">\n",
       "      <th></th>\n",
       "      <th>Neighborhood</th>\n",
       "      <th>Sector #</th>\n",
       "      <th>Population (2010)</th>\n",
       "      <th>#Part 1 (Major Crime) Reports (2010)</th>\n",
       "      <th>#Part 2 Reports (2010)</th>\n",
       "      <th>#Other Police Reports (2010)</th>\n",
       "      <th>Part 1 Crime per 100 Persons (2010)</th>\n",
       "      <th>Part 2 Crime per 100 Persons (2010)</th>\n",
       "      <th>#Murder (2010)</th>\n",
       "      <th>#Rape (2010)</th>\n",
       "      <th>#Robbery (2010)</th>\n",
       "      <th>#Agr. Assault (2010)</th>\n",
       "      <th>#Burglary (2010)</th>\n",
       "      <th>#Auto Theft (2010)</th>\n",
       "      <th>#Drug Violations (2010)</th>\n",
       "    </tr>\n",
       "    <tr>\n",
       "      <th>_id</th>\n",
       "      <th></th>\n",
       "      <th></th>\n",
       "      <th></th>\n",
       "      <th></th>\n",
       "      <th></th>\n",
       "      <th></th>\n",
       "      <th></th>\n",
       "      <th></th>\n",
       "      <th></th>\n",
       "      <th></th>\n",
       "      <th></th>\n",
       "      <th></th>\n",
       "      <th></th>\n",
       "      <th></th>\n",
       "      <th></th>\n",
       "    </tr>\n",
       "  </thead>\n",
       "  <tbody>\n",
       "    <tr>\n",
       "      <th>1</th>\n",
       "      <td>Allegheny Center</td>\n",
       "      <td>3</td>\n",
       "      <td>933</td>\n",
       "      <td>71</td>\n",
       "      <td>141</td>\n",
       "      <td>46</td>\n",
       "      <td>7.6</td>\n",
       "      <td>15.1</td>\n",
       "      <td>0</td>\n",
       "      <td>2</td>\n",
       "      <td>9</td>\n",
       "      <td>5</td>\n",
       "      <td>8</td>\n",
       "      <td>5</td>\n",
       "      <td>31</td>\n",
       "    </tr>\n",
       "    <tr>\n",
       "      <th>2</th>\n",
       "      <td>Allegheny West</td>\n",
       "      <td>3</td>\n",
       "      <td>462</td>\n",
       "      <td>38</td>\n",
       "      <td>49</td>\n",
       "      <td>31</td>\n",
       "      <td>8.2</td>\n",
       "      <td>10.6</td>\n",
       "      <td>1</td>\n",
       "      <td>0</td>\n",
       "      <td>4</td>\n",
       "      <td>6</td>\n",
       "      <td>6</td>\n",
       "      <td>4</td>\n",
       "      <td>12</td>\n",
       "    </tr>\n",
       "    <tr>\n",
       "      <th>3</th>\n",
       "      <td>Allentown</td>\n",
       "      <td>6</td>\n",
       "      <td>2,500</td>\n",
       "      <td>159</td>\n",
       "      <td>252</td>\n",
       "      <td>160</td>\n",
       "      <td>6.4</td>\n",
       "      <td>10.1</td>\n",
       "      <td>0</td>\n",
       "      <td>2</td>\n",
       "      <td>15</td>\n",
       "      <td>23</td>\n",
       "      <td>48</td>\n",
       "      <td>11</td>\n",
       "      <td>66</td>\n",
       "    </tr>\n",
       "    <tr>\n",
       "      <th>4</th>\n",
       "      <td>Arlington</td>\n",
       "      <td>7</td>\n",
       "      <td>1,869</td>\n",
       "      <td>50</td>\n",
       "      <td>84</td>\n",
       "      <td>48</td>\n",
       "      <td>2.7</td>\n",
       "      <td>4.5</td>\n",
       "      <td>0</td>\n",
       "      <td>1</td>\n",
       "      <td>8</td>\n",
       "      <td>5</td>\n",
       "      <td>15</td>\n",
       "      <td>7</td>\n",
       "      <td>9</td>\n",
       "    </tr>\n",
       "    <tr>\n",
       "      <th>5</th>\n",
       "      <td>Arlington Heights</td>\n",
       "      <td>7</td>\n",
       "      <td>244</td>\n",
       "      <td>19</td>\n",
       "      <td>37</td>\n",
       "      <td>24</td>\n",
       "      <td>7.8</td>\n",
       "      <td>15.2</td>\n",
       "      <td>0</td>\n",
       "      <td>0</td>\n",
       "      <td>4</td>\n",
       "      <td>5</td>\n",
       "      <td>5</td>\n",
       "      <td>3</td>\n",
       "      <td>7</td>\n",
       "    </tr>\n",
       "  </tbody>\n",
       "</table>\n",
       "</div>"
      ],
      "text/plain": [
       "          Neighborhood  Sector # Population (2010)  \\\n",
       "_id                                                  \n",
       "1     Allegheny Center         3               933   \n",
       "2       Allegheny West         3               462   \n",
       "3            Allentown         6             2,500   \n",
       "4            Arlington         7             1,869   \n",
       "5    Arlington Heights         7               244   \n",
       "\n",
       "     #Part 1 (Major Crime) Reports (2010)  #Part 2 Reports (2010)  \\\n",
       "_id                                                                 \n",
       "1                                      71                     141   \n",
       "2                                      38                      49   \n",
       "3                                     159                     252   \n",
       "4                                      50                      84   \n",
       "5                                      19                      37   \n",
       "\n",
       "     #Other Police Reports (2010)  Part 1 Crime per 100 Persons (2010)  \\\n",
       "_id                                                                      \n",
       "1                              46                                  7.6   \n",
       "2                              31                                  8.2   \n",
       "3                             160                                  6.4   \n",
       "4                              48                                  2.7   \n",
       "5                              24                                  7.8   \n",
       "\n",
       "     Part 2 Crime per 100 Persons (2010)  #Murder (2010)  #Rape (2010)  \\\n",
       "_id                                                                      \n",
       "1                                   15.1               0             2   \n",
       "2                                   10.6               1             0   \n",
       "3                                   10.1               0             2   \n",
       "4                                    4.5               0             1   \n",
       "5                                   15.2               0             0   \n",
       "\n",
       "     #Robbery (2010)  #Agr. Assault (2010)  #Burglary (2010)  \\\n",
       "_id                                                            \n",
       "1                  9                     5                 8   \n",
       "2                  4                     6                 6   \n",
       "3                 15                    23                48   \n",
       "4                  8                     5                15   \n",
       "5                  4                     5                 5   \n",
       "\n",
       "     #Auto Theft (2010)  #Drug Violations (2010)  \n",
       "_id                                               \n",
       "1                     5                       31  \n",
       "2                     4                       12  \n",
       "3                    11                       66  \n",
       "4                     7                        9  \n",
       "5                     3                        7  "
      ]
     },
     "execution_count": 14,
     "metadata": {},
     "output_type": "execute_result"
    }
   ],
   "source": [
    "import pandas as pd\n",
    "safetyData = pd.read_csv(\"PublicSafety.csv\", index_col = \"_id\")\n",
    "safetyData.head()"
   ]
  },
  {
   "cell_type": "markdown",
   "metadata": {},
   "source": [
    "This is just a sample of the data that represents major criminal activity within their respective neighborhoods. While all this data tells us a great deal about the issues of each neighborhood, it gives a lot of unnecessary information. So to visualize it all clearly adding a new category that takes the average of all the data makes it easier to comprehend and rank the information so as to find the best neighborhood. "
   ]
  },
  {
   "cell_type": "code",
   "execution_count": 59,
   "metadata": {},
   "outputs": [
    {
     "data": {
      "text/html": [
       "<div>\n",
       "<style scoped>\n",
       "    .dataframe tbody tr th:only-of-type {\n",
       "        vertical-align: middle;\n",
       "    }\n",
       "\n",
       "    .dataframe tbody tr th {\n",
       "        vertical-align: top;\n",
       "    }\n",
       "\n",
       "    .dataframe thead th {\n",
       "        text-align: right;\n",
       "    }\n",
       "</style>\n",
       "<table border=\"1\" class=\"dataframe\">\n",
       "  <thead>\n",
       "    <tr style=\"text-align: right;\">\n",
       "      <th></th>\n",
       "      <th>Neighborhood</th>\n",
       "      <th>Population (2010)</th>\n",
       "      <th>Part 1 Crime per 100 Persons (2010)</th>\n",
       "      <th>Part 2 Crime per 100 Persons (2010)</th>\n",
       "      <th>Average Crime per 100 Persons (2010)</th>\n",
       "    </tr>\n",
       "    <tr>\n",
       "      <th>_id</th>\n",
       "      <th></th>\n",
       "      <th></th>\n",
       "      <th></th>\n",
       "      <th></th>\n",
       "      <th></th>\n",
       "    </tr>\n",
       "  </thead>\n",
       "  <tbody>\n",
       "    <tr>\n",
       "      <th>32</th>\n",
       "      <td>Fairywood</td>\n",
       "      <td>1,002</td>\n",
       "      <td>0.3</td>\n",
       "      <td>0.6</td>\n",
       "      <td>0.45</td>\n",
       "    </tr>\n",
       "    <tr>\n",
       "      <th>55</th>\n",
       "      <td>New Homestead</td>\n",
       "      <td>990</td>\n",
       "      <td>0.7</td>\n",
       "      <td>0.4</td>\n",
       "      <td>0.55</td>\n",
       "    </tr>\n",
       "    <tr>\n",
       "      <th>76</th>\n",
       "      <td>Squirrel Hill North</td>\n",
       "      <td>11,363</td>\n",
       "      <td>1.3</td>\n",
       "      <td>1.0</td>\n",
       "      <td>1.15</td>\n",
       "    </tr>\n",
       "    <tr>\n",
       "      <th>59</th>\n",
       "      <td>Oakwood</td>\n",
       "      <td>1,027</td>\n",
       "      <td>1.4</td>\n",
       "      <td>1.4</td>\n",
       "      <td>1.40</td>\n",
       "    </tr>\n",
       "    <tr>\n",
       "      <th>46</th>\n",
       "      <td>Lincoln Place</td>\n",
       "      <td>3,227</td>\n",
       "      <td>1.0</td>\n",
       "      <td>2.0</td>\n",
       "      <td>1.50</td>\n",
       "    </tr>\n",
       "  </tbody>\n",
       "</table>\n",
       "</div>"
      ],
      "text/plain": [
       "            Neighborhood Population (2010)  \\\n",
       "_id                                          \n",
       "32             Fairywood             1,002   \n",
       "55         New Homestead               990   \n",
       "76   Squirrel Hill North            11,363   \n",
       "59               Oakwood             1,027   \n",
       "46         Lincoln Place             3,227   \n",
       "\n",
       "     Part 1 Crime per 100 Persons (2010)  Part 2 Crime per 100 Persons (2010)  \\\n",
       "_id                                                                             \n",
       "32                                   0.3                                  0.6   \n",
       "55                                   0.7                                  0.4   \n",
       "76                                   1.3                                  1.0   \n",
       "59                                   1.4                                  1.4   \n",
       "46                                   1.0                                  2.0   \n",
       "\n",
       "     Average Crime per 100 Persons (2010)  \n",
       "_id                                        \n",
       "32                                   0.45  \n",
       "55                                   0.55  \n",
       "76                                   1.15  \n",
       "59                                   1.40  \n",
       "46                                   1.50  "
      ]
     },
     "execution_count": 59,
     "metadata": {},
     "output_type": "execute_result"
    }
   ],
   "source": [
    "safetyData['Average Crime per 100 Persons (2010)'] = round((safetyData['Part 1 Crime per 100 Persons (2010)'] + safetyData['Part 2 Crime per 100 Persons (2010)'])/2, 2)\n",
    "filtered = safetyData[['Neighborhood', 'Population (2010)', 'Part 1 Crime per 100 Persons (2010)', 'Part 2 Crime per 100 Persons (2010)', 'Average Crime per 100 Persons (2010)']]\n",
    "filtered.head()"
   ]
  },
  {
   "cell_type": "markdown",
   "metadata": {},
   "source": [
    "Now that the data is condensed and the new category is added, the safety and quality of life becomes more measurable. So now the 'best neighborhood' or 'worst neighborhood' is easily quantifiable."
   ]
  },
  {
   "cell_type": "code",
   "execution_count": 60,
   "metadata": {},
   "outputs": [
    {
     "data": {
      "text/html": [
       "<div>\n",
       "<style scoped>\n",
       "    .dataframe tbody tr th:only-of-type {\n",
       "        vertical-align: middle;\n",
       "    }\n",
       "\n",
       "    .dataframe tbody tr th {\n",
       "        vertical-align: top;\n",
       "    }\n",
       "\n",
       "    .dataframe thead th {\n",
       "        text-align: right;\n",
       "    }\n",
       "</style>\n",
       "<table border=\"1\" class=\"dataframe\">\n",
       "  <thead>\n",
       "    <tr style=\"text-align: right;\">\n",
       "      <th></th>\n",
       "      <th>Neighborhood</th>\n",
       "      <th>Population (2010)</th>\n",
       "      <th>Part 1 Crime per 100 Persons (2010)</th>\n",
       "      <th>Part 2 Crime per 100 Persons (2010)</th>\n",
       "      <th>Average Crime per 100 Persons (2010)</th>\n",
       "    </tr>\n",
       "    <tr>\n",
       "      <th>_id</th>\n",
       "      <th></th>\n",
       "      <th></th>\n",
       "      <th></th>\n",
       "      <th></th>\n",
       "      <th></th>\n",
       "    </tr>\n",
       "  </thead>\n",
       "  <tbody>\n",
       "    <tr>\n",
       "      <th>32</th>\n",
       "      <td>Fairywood</td>\n",
       "      <td>1,002</td>\n",
       "      <td>0.3</td>\n",
       "      <td>0.6</td>\n",
       "      <td>0.45</td>\n",
       "    </tr>\n",
       "  </tbody>\n",
       "</table>\n",
       "</div>"
      ],
      "text/plain": [
       "    Neighborhood Population (2010)  Part 1 Crime per 100 Persons (2010)  \\\n",
       "_id                                                                       \n",
       "32     Fairywood             1,002                                  0.3   \n",
       "\n",
       "     Part 2 Crime per 100 Persons (2010)  Average Crime per 100 Persons (2010)  \n",
       "_id                                                                             \n",
       "32                                   0.6                                  0.45  "
      ]
     },
     "execution_count": 60,
     "metadata": {},
     "output_type": "execute_result"
    }
   ],
   "source": [
    "filtered[filtered['Average Crime per 100 Persons (2010)']==filtered['Average Crime per 100 Persons (2010)'].min()]"
   ]
  },
  {
   "cell_type": "markdown",
   "metadata": {},
   "source": [
    "As you can see from the data Fairywood is the \"best\" neighborhood with a ratio of 0.45 crimes committed for every 100 persons in the neighborhood. From a statistical standpoint New Homestead is the safest place to live in all of Pittsburgh. Within our measurements for what makes the best neighborhood Fairywood would fall under that title. But what can that be compared to? Best as opposed to what? For that there needs visual representation of all the neighborhoods crime statistics to show the difference."
   ]
  },
  {
   "cell_type": "code",
   "execution_count": 61,
   "metadata": {},
   "outputs": [
    {
     "data": {
      "text/html": [
       "<div>\n",
       "<style scoped>\n",
       "    .dataframe tbody tr th:only-of-type {\n",
       "        vertical-align: middle;\n",
       "    }\n",
       "\n",
       "    .dataframe tbody tr th {\n",
       "        vertical-align: top;\n",
       "    }\n",
       "\n",
       "    .dataframe thead th {\n",
       "        text-align: right;\n",
       "    }\n",
       "</style>\n",
       "<table border=\"1\" class=\"dataframe\">\n",
       "  <thead>\n",
       "    <tr style=\"text-align: right;\">\n",
       "      <th></th>\n",
       "      <th>Neighborhood</th>\n",
       "      <th>Average Crime per 100 Persons (2010)</th>\n",
       "    </tr>\n",
       "    <tr>\n",
       "      <th>_id</th>\n",
       "      <th></th>\n",
       "      <th></th>\n",
       "    </tr>\n",
       "  </thead>\n",
       "  <tbody>\n",
       "    <tr>\n",
       "      <th>17</th>\n",
       "      <td>Central Business District</td>\n",
       "      <td>18.65</td>\n",
       "    </tr>\n",
       "    <tr>\n",
       "      <th>57</th>\n",
       "      <td>North Shore</td>\n",
       "      <td>23.10</td>\n",
       "    </tr>\n",
       "    <tr>\n",
       "      <th>80</th>\n",
       "      <td>Strip District</td>\n",
       "      <td>26.15</td>\n",
       "    </tr>\n",
       "    <tr>\n",
       "      <th>22</th>\n",
       "      <td>Chateau</td>\n",
       "      <td>181.85</td>\n",
       "    </tr>\n",
       "    <tr>\n",
       "      <th>71</th>\n",
       "      <td>South Shore</td>\n",
       "      <td>255.25</td>\n",
       "    </tr>\n",
       "  </tbody>\n",
       "</table>\n",
       "</div>"
      ],
      "text/plain": [
       "                  Neighborhood  Average Crime per 100 Persons (2010)\n",
       "_id                                                                 \n",
       "17   Central Business District                                 18.65\n",
       "57                 North Shore                                 23.10\n",
       "80              Strip District                                 26.15\n",
       "22                     Chateau                                181.85\n",
       "71                 South Shore                                255.25"
      ]
     },
     "execution_count": 61,
     "metadata": {},
     "output_type": "execute_result"
    }
   ],
   "source": [
    "import matplotlib.pyplot as plt\n",
    "safetyData.sort_values(by=['Average Crime per 100 Persons (2010)'], inplace=True)\n",
    "filter2 = safetyData[['Neighborhood', 'Average Crime per 100 Persons (2010)']]\n",
    "filter2.tail()"
   ]
  },
  {
   "cell_type": "markdown",
   "metadata": {},
   "source": [
    "To find a visual representation the data needs to be further condensed so it can be graphed."
   ]
  },
  {
   "cell_type": "code",
   "execution_count": 62,
   "metadata": {},
   "outputs": [
    {
     "name": "stdin",
     "output_type": "stream",
     "text": [
      "input a pittsburgh neighborhood:  t\n"
     ]
    },
    {
     "data": {
      "text/html": [
       "<div>\n",
       "<style scoped>\n",
       "    .dataframe tbody tr th:only-of-type {\n",
       "        vertical-align: middle;\n",
       "    }\n",
       "\n",
       "    .dataframe tbody tr th {\n",
       "        vertical-align: top;\n",
       "    }\n",
       "\n",
       "    .dataframe thead th {\n",
       "        text-align: right;\n",
       "    }\n",
       "</style>\n",
       "<table border=\"1\" class=\"dataframe\">\n",
       "  <thead>\n",
       "    <tr style=\"text-align: right;\">\n",
       "      <th></th>\n",
       "      <th>Neighborhood</th>\n",
       "      <th>Sector #</th>\n",
       "      <th>Population (2010)</th>\n",
       "      <th>#Part 1 (Major Crime) Reports (2010)</th>\n",
       "      <th>#Part 2 Reports (2010)</th>\n",
       "      <th>#Other Police Reports (2010)</th>\n",
       "      <th>Part 1 Crime per 100 Persons (2010)</th>\n",
       "      <th>Part 2 Crime per 100 Persons (2010)</th>\n",
       "      <th>#Murder (2010)</th>\n",
       "      <th>#Rape (2010)</th>\n",
       "      <th>#Robbery (2010)</th>\n",
       "      <th>#Agr. Assault (2010)</th>\n",
       "      <th>#Burglary (2010)</th>\n",
       "      <th>#Auto Theft (2010)</th>\n",
       "      <th>#Drug Violations (2010)</th>\n",
       "      <th>Average Crime per 100 Persons (2010)</th>\n",
       "    </tr>\n",
       "    <tr>\n",
       "      <th>_id</th>\n",
       "      <th></th>\n",
       "      <th></th>\n",
       "      <th></th>\n",
       "      <th></th>\n",
       "      <th></th>\n",
       "      <th></th>\n",
       "      <th></th>\n",
       "      <th></th>\n",
       "      <th></th>\n",
       "      <th></th>\n",
       "      <th></th>\n",
       "      <th></th>\n",
       "      <th></th>\n",
       "      <th></th>\n",
       "      <th></th>\n",
       "      <th></th>\n",
       "    </tr>\n",
       "  </thead>\n",
       "  <tbody>\n",
       "  </tbody>\n",
       "</table>\n",
       "</div>"
      ],
      "text/plain": [
       "Empty DataFrame\n",
       "Columns: [Neighborhood, Sector #, Population (2010), #Part 1 (Major Crime) Reports (2010), #Part 2 Reports (2010), #Other Police Reports (2010), Part 1 Crime per 100 Persons (2010), Part 2 Crime per 100 Persons (2010), #Murder (2010), #Rape (2010), #Robbery (2010), #Agr. Assault (2010), #Burglary (2010), #Auto Theft (2010), #Drug Violations (2010), Average Crime per 100 Persons (2010)]\n",
       "Index: []"
      ]
     },
     "execution_count": 62,
     "metadata": {},
     "output_type": "execute_result"
    }
   ],
   "source": [
    "mask = filter2['Neighborhood'] == input('input a pittsburgh neighborhood: ')\n",
    "filtering = safetyData[mask]\n",
    "filtering.head()"
   ]
  },
  {
   "cell_type": "markdown",
   "metadata": {},
   "source": [
    "i made this for fun :)"
   ]
  },
  {
   "cell_type": "code",
   "execution_count": 66,
   "metadata": {},
   "outputs": [
    {
     "data": {
      "text/plain": [
       "<matplotlib.axes._subplots.AxesSubplot at 0x7efe2ab29c40>"
      ]
     },
     "execution_count": 66,
     "metadata": {},
     "output_type": "execute_result"
    },
    {
     "data": {
      "image/png": "[encoded data removed]",
      "text/plain": [
       "<Figure size 1440x720 with 1 Axes>"
      ]
     },
     "metadata": {
      "needs_background": "light"
     },
     "output_type": "display_data"
    }
   ],
   "source": [
    "filter2.plot.bar(x=\"Neighborhood\", y=\"Average Crime per 100 Persons (2010)\", figsize=(20, 10))"
   ]
  },
  {
   "cell_type": "markdown",
   "metadata": {},
   "source": [
    "Now the data is clearly shown in adjacent order from least amount of crime to most. Most neighborhoods have very similar crime statistics while both ends have either next to no crime to an exorbandant amount. There is nothing wrong with the data, South Shore and Chateu have the correct values inputted, however that is a large limitation to this metric."
   ]
  },
  {
   "cell_type": "markdown",
   "metadata": {},
   "source": [
    "There are some glaring issues with this style of evaluation for finding the 'best' nieghborhood as it does not take into account all the other factors that would inflate or deflate the statistics of each neighborhood. Not all crimes committed in a neighborhood are actors perpetuated by residents of that area. An example of this would be population, specifically in Chateau and South Shore's case. Both of these neighborhoods sport populations of lower than 20, making arrests within their borders count significantly higher than all the other neighborhoods. Chateau specifically also is located next to, formerly named Heinz Stadium now named Acrisure Stadium, which very likely inflated their numbers."
   ]
  },
  {
   "cell_type": "markdown",
   "metadata": {},
   "source": [
    "# Conclusion"
   ]
  },
  {
   "cell_type": "markdown",
   "metadata": {},
   "source": [
    "While all this data gives an accurate summation of the criminal activity in 2010 criminal activity or lack thereof is not the only deciding factor in quality of living. Fairywood may statistically be the safest neighborhood in the city however that is only an indication of quiet and inactivity. There are innumerable amounts of factors that would contribute to lowering or raising a neighborhood's quality of living that could explain the crime ratio that their neighborhood has. Fairywood may be lacking in business and infrastructure making it a dead neighborhood lowering its quality of living as opposed to maybe Highland Park with a slightly higher criminality ratio but more businesses and infrastructure making it have a higher quality of living."
   ]
  },
  {
   "cell_type": "code",
   "execution_count": null,
   "metadata": {},
   "outputs": [],
   "source": []
  }
 ],
 "metadata": {
  "kernelspec": {
   "display_name": "Python 3",
   "language": "python",
   "name": "python3"
  },
  "language_info": {
   "codemirror_mode": {
    "name": "ipython",
    "version": 3
   },
   "file_extension": ".py",
   "mimetype": "text/x-python",
   "name": "python",
   "nbconvert_exporter": "python",
   "pygments_lexer": "ipython3",
   "version": "3.8.3"
  }
 },
 "nbformat": 4,
 "nbformat_minor": 4
}
